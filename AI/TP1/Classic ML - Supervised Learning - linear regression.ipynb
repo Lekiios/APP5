{
 "cells": [
  {
   "cell_type": "markdown",
   "id": "301bf0d7",
   "metadata": {},
   "source": [
    "# Linear Regression"
   ]
  },
  {
   "cell_type": "code",
   "id": "8b41f700",
   "metadata": {
    "ExecuteTime": {
     "end_time": "2024-09-13T10:04:59.021973Z",
     "start_time": "2024-09-13T10:04:59.018312Z"
    }
   },
   "source": [
    "import numpy as np\n",
    "import matplotlib.pyplot as plt\n",
    "from sklearn.linear_model import LinearRegression\n",
    "import pandas as pd"
   ],
   "outputs": [],
   "execution_count": 56
  },
  {
   "cell_type": "code",
   "id": "2401a30c",
   "metadata": {
    "ExecuteTime": {
     "end_time": "2024-09-13T10:04:59.496394Z",
     "start_time": "2024-09-13T10:04:59.481068Z"
    }
   },
   "source": [
    "## Generating data points\n",
    "\n",
    "n_points = 20\n",
    "x = np.random.random(n_points)\n",
    "x = np.sort(x)\n",
    "f = lambda x: 5*x + 2\n",
    "## Adding some noise\n",
    "y = f(x) + np.random.normal(loc = 0, scale = 0.5, size = n_points)\n",
    "\n",
    "## We need to reshape the data so we can use the algorithm\n",
    "\n",
    "X = x.reshape((-1,1))\n",
    "Y = y.reshape((-1,1))"
   ],
   "outputs": [],
   "execution_count": 57
  },
  {
   "metadata": {
    "ExecuteTime": {
     "end_time": "2024-09-13T10:05:00.175678Z",
     "start_time": "2024-09-13T10:05:00.144477Z"
    }
   },
   "cell_type": "code",
   "source": [
    "## visualizing the data\n",
    "pd.DataFrame({\"x\": x, \"y\": y}).describe()"
   ],
   "id": "2a471d079514e765",
   "outputs": [
    {
     "data": {
      "text/plain": [
       "               x          y\n",
       "count  20.000000  20.000000\n",
       "mean    0.458203   4.393985\n",
       "std     0.238246   1.435224\n",
       "min     0.047549   2.042992\n",
       "25%     0.315086   3.562985\n",
       "50%     0.426160   4.242882\n",
       "75%     0.610066   5.014724\n",
       "max     0.915387   7.291247"
      ],
      "text/html": [
       "<div>\n",
       "<style scoped>\n",
       "    .dataframe tbody tr th:only-of-type {\n",
       "        vertical-align: middle;\n",
       "    }\n",
       "\n",
       "    .dataframe tbody tr th {\n",
       "        vertical-align: top;\n",
       "    }\n",
       "\n",
       "    .dataframe thead th {\n",
       "        text-align: right;\n",
       "    }\n",
       "</style>\n",
       "<table border=\"1\" class=\"dataframe\">\n",
       "  <thead>\n",
       "    <tr style=\"text-align: right;\">\n",
       "      <th></th>\n",
       "      <th>x</th>\n",
       "      <th>y</th>\n",
       "    </tr>\n",
       "  </thead>\n",
       "  <tbody>\n",
       "    <tr>\n",
       "      <th>count</th>\n",
       "      <td>20.000000</td>\n",
       "      <td>20.000000</td>\n",
       "    </tr>\n",
       "    <tr>\n",
       "      <th>mean</th>\n",
       "      <td>0.458203</td>\n",
       "      <td>4.393985</td>\n",
       "    </tr>\n",
       "    <tr>\n",
       "      <th>std</th>\n",
       "      <td>0.238246</td>\n",
       "      <td>1.435224</td>\n",
       "    </tr>\n",
       "    <tr>\n",
       "      <th>min</th>\n",
       "      <td>0.047549</td>\n",
       "      <td>2.042992</td>\n",
       "    </tr>\n",
       "    <tr>\n",
       "      <th>25%</th>\n",
       "      <td>0.315086</td>\n",
       "      <td>3.562985</td>\n",
       "    </tr>\n",
       "    <tr>\n",
       "      <th>50%</th>\n",
       "      <td>0.426160</td>\n",
       "      <td>4.242882</td>\n",
       "    </tr>\n",
       "    <tr>\n",
       "      <th>75%</th>\n",
       "      <td>0.610066</td>\n",
       "      <td>5.014724</td>\n",
       "    </tr>\n",
       "    <tr>\n",
       "      <th>max</th>\n",
       "      <td>0.915387</td>\n",
       "      <td>7.291247</td>\n",
       "    </tr>\n",
       "  </tbody>\n",
       "</table>\n",
       "</div>"
      ]
     },
     "execution_count": 58,
     "metadata": {},
     "output_type": "execute_result"
    }
   ],
   "execution_count": 58
  },
  {
   "cell_type": "code",
   "id": "4a9ff1aa",
   "metadata": {
    "ExecuteTime": {
     "end_time": "2024-09-13T10:05:00.805046Z",
     "start_time": "2024-09-13T10:05:00.764372Z"
    }
   },
   "source": [
    "## Creating and fitting the linear model\n",
    "\n",
    "model = LinearRegression()\n",
    "model.fit(X, Y)\n",
    "y_pred = model.predict(X)"
   ],
   "outputs": [],
   "execution_count": 59
  },
  {
   "cell_type": "code",
   "id": "0ee27eff",
   "metadata": {
    "ExecuteTime": {
     "end_time": "2024-09-13T10:05:02.188184Z",
     "start_time": "2024-09-13T10:05:01.958388Z"
    }
   },
   "source": [
    "plt.plot(x, y, \"o\", label = \"data\")\n",
    "plt.plot(x, y_pred, label = \"linear regression\")\n",
    "# plt.ylim(1.5, 8)\n",
    "plt.xlabel(\"variable\")\n",
    "plt.ylabel(\"target\")\n",
    "plt.title(\"Linear regression\")\n",
    "plt.legend()\n",
    "plt.grid()"
   ],
   "outputs": [
    {
     "data": {
      "text/plain": [
       "<Figure size 640x480 with 1 Axes>"
      ],
      "image/png": "[encoded data removed]"
     },
     "metadata": {},
     "output_type": "display_data"
    }
   ],
   "execution_count": 60
  },
  {
   "cell_type": "code",
   "id": "47d01539",
   "metadata": {
    "ExecuteTime": {
     "end_time": "2024-09-13T11:25:46.086538Z",
     "start_time": "2024-09-13T11:25:46.057456Z"
    }
   },
   "source": [
    "## Computing mean squared error (MSE)\n",
    "from sklearn.metrics import mean_squared_error\n",
    "\n",
    "mse = mean_squared_error(y, y_pred)\n",
    "my_mse = np.mean((Y - y_pred)**2) # Be careful with the shapes \n",
    "print(\"sklearn MSE: \", mse)\n",
    "print(\"my MSE: \", my_mse)"
   ],
   "outputs": [
    {
     "name": "stdout",
     "output_type": "stream",
     "text": [
      "sklearn MSE:  0.1564758085557474\n",
      "my MSE:  0.1564758085557474\n"
     ]
    }
   ],
   "execution_count": 71
  },
  {
   "cell_type": "code",
   "id": "ba6e0c18",
   "metadata": {
    "ExecuteTime": {
     "end_time": "2024-09-13T09:37:07.203680Z",
     "start_time": "2024-09-13T09:37:07.199688Z"
    }
   },
   "source": [
    "## Computing coefficient of determination (R-squared)\n",
    "from sklearn.metrics import r2_score\n",
    "r2 = r2_score(y, y_pred)\n",
    "r2"
   ],
   "outputs": [
    {
     "data": {
      "text/plain": [
       "0.9186355801277082"
      ]
     },
     "execution_count": 47,
     "metadata": {},
     "output_type": "execute_result"
    }
   ],
   "execution_count": 47
  },
  {
   "metadata": {
    "ExecuteTime": {
     "end_time": "2024-09-13T09:37:07.534896Z",
     "start_time": "2024-09-13T09:37:07.531535Z"
    }
   },
   "cell_type": "code",
   "source": "",
   "id": "a2a9adc817804d9c",
   "outputs": [],
   "execution_count": null
  }
 ],
 "metadata": {
  "kernelspec": {
   "display_name": "next_teaching",
   "language": "python",
   "name": "python3"
  },
  "language_info": {
   "codemirror_mode": {
    "name": "ipython",
    "version": 3
   },
   "file_extension": ".py",
   "mimetype": "text/x-python",
   "name": "python",
   "nbconvert_exporter": "python",
   "pygments_lexer": "ipython3",
   "version": "3.8.10"
  }
 },
 "nbformat": 4,
 "nbformat_minor": 5
}
